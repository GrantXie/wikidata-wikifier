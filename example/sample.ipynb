{
 "cells": [
  {
   "cell_type": "code",
   "execution_count": 1,
   "metadata": {},
   "outputs": [],
   "source": [
    "import wikifier\n",
    "import pandas as pd"
   ]
  },
  {
   "cell_type": "code",
   "execution_count": 2,
   "metadata": {},
   "outputs": [
    {
     "data": {
      "text/html": [
       "<div>\n",
       "<style scoped>\n",
       "    .dataframe tbody tr th:only-of-type {\n",
       "        vertical-align: middle;\n",
       "    }\n",
       "\n",
       "    .dataframe tbody tr th {\n",
       "        vertical-align: top;\n",
       "    }\n",
       "\n",
       "    .dataframe thead th {\n",
       "        text-align: right;\n",
       "    }\n",
       "</style>\n",
       "<table border=\"1\" class=\"dataframe\">\n",
       "  <thead>\n",
       "    <tr style=\"text-align: right;\">\n",
       "      <th></th>\n",
       "      <th>d3mIndex</th>\n",
       "      <th>FIPS</th>\n",
       "      <th>State</th>\n",
       "      <th>Area</th>\n",
       "      <th>RUCCode</th>\n",
       "      <th>POVALL_2016</th>\n",
       "    </tr>\n",
       "  </thead>\n",
       "  <tbody>\n",
       "    <tr>\n",
       "      <th>0</th>\n",
       "      <td>1</td>\n",
       "      <td>13297</td>\n",
       "      <td>GA</td>\n",
       "      <td>Walton County</td>\n",
       "      <td>1</td>\n",
       "      <td>11385</td>\n",
       "    </tr>\n",
       "    <tr>\n",
       "      <th>1</th>\n",
       "      <td>2</td>\n",
       "      <td>13137</td>\n",
       "      <td>GA</td>\n",
       "      <td>Habersham County</td>\n",
       "      <td>6</td>\n",
       "      <td>6500</td>\n",
       "    </tr>\n",
       "    <tr>\n",
       "      <th>2</th>\n",
       "      <td>3</td>\n",
       "      <td>54017</td>\n",
       "      <td>WV</td>\n",
       "      <td>Doddridge County</td>\n",
       "      <td>9</td>\n",
       "      <td>1460</td>\n",
       "    </tr>\n",
       "    <tr>\n",
       "      <th>3</th>\n",
       "      <td>4</td>\n",
       "      <td>55055</td>\n",
       "      <td>WI</td>\n",
       "      <td>Jefferson County</td>\n",
       "      <td>4</td>\n",
       "      <td>7618</td>\n",
       "    </tr>\n",
       "    <tr>\n",
       "      <th>4</th>\n",
       "      <td>5</td>\n",
       "      <td>38065</td>\n",
       "      <td>ND</td>\n",
       "      <td>Oliver County</td>\n",
       "      <td>8</td>\n",
       "      <td>191</td>\n",
       "    </tr>\n",
       "  </tbody>\n",
       "</table>\n",
       "</div>"
      ],
      "text/plain": [
       "  d3mIndex   FIPS State              Area RUCCode POVALL_2016\n",
       "0        1  13297    GA     Walton County       1       11385\n",
       "1        2  13137    GA  Habersham County       6        6500\n",
       "2        3  54017    WV  Doddridge County       9        1460\n",
       "3        4  55055    WI  Jefferson County       4        7618\n",
       "4        5  38065    ND     Oliver County       8         191"
      ]
     },
     "execution_count": 2,
     "metadata": {},
     "output_type": "execute_result"
    }
   ],
   "source": [
    "# attention: must set dtype to str to ensure format is correct\n",
    "test_input = pd.read_csv(\"test_data.csv\",dtype=str)\n",
    "test_input.head()"
   ]
  },
  {
   "cell_type": "code",
   "execution_count": 3,
   "metadata": {},
   "outputs": [
    {
     "name": "stdout",
     "output_type": "stream",
     "text": [
      "The best matching P node is P882\n"
     ]
    }
   ],
   "source": [
    "res = wikifier.produce(test_input,[1])"
   ]
  },
  {
   "cell_type": "code",
   "execution_count": 4,
   "metadata": {},
   "outputs": [
    {
     "data": {
      "text/html": [
       "<div>\n",
       "<style scoped>\n",
       "    .dataframe tbody tr th:only-of-type {\n",
       "        vertical-align: middle;\n",
       "    }\n",
       "\n",
       "    .dataframe tbody tr th {\n",
       "        vertical-align: top;\n",
       "    }\n",
       "\n",
       "    .dataframe thead th {\n",
       "        text-align: right;\n",
       "    }\n",
       "</style>\n",
       "<table border=\"1\" class=\"dataframe\">\n",
       "  <thead>\n",
       "    <tr style=\"text-align: right;\">\n",
       "      <th></th>\n",
       "      <th>d3mIndex</th>\n",
       "      <th>FIPS</th>\n",
       "      <th>State</th>\n",
       "      <th>Area</th>\n",
       "      <th>RUCCode</th>\n",
       "      <th>POVALL_2016</th>\n",
       "      <th>FIPS_wikidata</th>\n",
       "    </tr>\n",
       "  </thead>\n",
       "  <tbody>\n",
       "    <tr>\n",
       "      <th>0</th>\n",
       "      <td>1</td>\n",
       "      <td>13297</td>\n",
       "      <td>GA</td>\n",
       "      <td>Walton County</td>\n",
       "      <td>1</td>\n",
       "      <td>11385</td>\n",
       "      <td>Q498312</td>\n",
       "    </tr>\n",
       "    <tr>\n",
       "      <th>1</th>\n",
       "      <td>2</td>\n",
       "      <td>13137</td>\n",
       "      <td>GA</td>\n",
       "      <td>Habersham County</td>\n",
       "      <td>6</td>\n",
       "      <td>6500</td>\n",
       "      <td>Q501096</td>\n",
       "    </tr>\n",
       "    <tr>\n",
       "      <th>2</th>\n",
       "      <td>3</td>\n",
       "      <td>54017</td>\n",
       "      <td>WV</td>\n",
       "      <td>Doddridge County</td>\n",
       "      <td>9</td>\n",
       "      <td>1460</td>\n",
       "      <td>Q494081</td>\n",
       "    </tr>\n",
       "    <tr>\n",
       "      <th>3</th>\n",
       "      <td>4</td>\n",
       "      <td>55055</td>\n",
       "      <td>WI</td>\n",
       "      <td>Jefferson County</td>\n",
       "      <td>4</td>\n",
       "      <td>7618</td>\n",
       "      <td>Q500958</td>\n",
       "    </tr>\n",
       "    <tr>\n",
       "      <th>4</th>\n",
       "      <td>5</td>\n",
       "      <td>38065</td>\n",
       "      <td>ND</td>\n",
       "      <td>Oliver County</td>\n",
       "      <td>8</td>\n",
       "      <td>191</td>\n",
       "      <td>Q48933</td>\n",
       "    </tr>\n",
       "  </tbody>\n",
       "</table>\n",
       "</div>"
      ],
      "text/plain": [
       "  d3mIndex   FIPS State              Area RUCCode POVALL_2016 FIPS_wikidata\n",
       "0        1  13297    GA     Walton County       1       11385       Q498312\n",
       "1        2  13137    GA  Habersham County       6        6500       Q501096\n",
       "2        3  54017    WV  Doddridge County       9        1460       Q494081\n",
       "3        4  55055    WI  Jefferson County       4        7618       Q500958\n",
       "4        5  38065    ND     Oliver County       8         191        Q48933"
      ]
     },
     "execution_count": 4,
     "metadata": {},
     "output_type": "execute_result"
    }
   ],
   "source": [
    "res2.head()"
   ]
  },
  {
   "cell_type": "code",
   "execution_count": 22,
   "metadata": {},
   "outputs": [],
   "source": [
    "res.to_csv(\"test_data_wikifiered.csv\")"
   ]
  },
  {
   "cell_type": "code",
   "execution_count": 10,
   "metadata": {},
   "outputs": [
    {
     "name": "stdout",
     "output_type": "stream",
     "text": [
      "User-defined P node is P123\n"
     ]
    }
   ],
   "source": [
    "res2 = wikifier.produce(inputs=test_input,target_columns=[1],target_p_node=\"P123\")"
   ]
  },
  {
   "cell_type": "code",
   "execution_count": 12,
   "metadata": {},
   "outputs": [
    {
     "data": {
      "text/html": [
       "<div>\n",
       "<style scoped>\n",
       "    .dataframe tbody tr th:only-of-type {\n",
       "        vertical-align: middle;\n",
       "    }\n",
       "\n",
       "    .dataframe tbody tr th {\n",
       "        vertical-align: top;\n",
       "    }\n",
       "\n",
       "    .dataframe thead th {\n",
       "        text-align: right;\n",
       "    }\n",
       "</style>\n",
       "<table border=\"1\" class=\"dataframe\">\n",
       "  <thead>\n",
       "    <tr style=\"text-align: right;\">\n",
       "      <th></th>\n",
       "      <th>d3mIndex</th>\n",
       "      <th>FIPS</th>\n",
       "      <th>State</th>\n",
       "      <th>Area</th>\n",
       "      <th>RUCCode</th>\n",
       "      <th>POVALL_2016</th>\n",
       "      <th>FIPS_wikidata</th>\n",
       "    </tr>\n",
       "  </thead>\n",
       "  <tbody>\n",
       "    <tr>\n",
       "      <th>0</th>\n",
       "      <td>1</td>\n",
       "      <td>13297</td>\n",
       "      <td>GA</td>\n",
       "      <td>Walton County</td>\n",
       "      <td>1</td>\n",
       "      <td>11385</td>\n",
       "      <td>N/A</td>\n",
       "    </tr>\n",
       "    <tr>\n",
       "      <th>1</th>\n",
       "      <td>2</td>\n",
       "      <td>13137</td>\n",
       "      <td>GA</td>\n",
       "      <td>Habersham County</td>\n",
       "      <td>6</td>\n",
       "      <td>6500</td>\n",
       "      <td>N/A</td>\n",
       "    </tr>\n",
       "    <tr>\n",
       "      <th>2</th>\n",
       "      <td>3</td>\n",
       "      <td>54017</td>\n",
       "      <td>WV</td>\n",
       "      <td>Doddridge County</td>\n",
       "      <td>9</td>\n",
       "      <td>1460</td>\n",
       "      <td>N/A</td>\n",
       "    </tr>\n",
       "    <tr>\n",
       "      <th>3</th>\n",
       "      <td>4</td>\n",
       "      <td>55055</td>\n",
       "      <td>WI</td>\n",
       "      <td>Jefferson County</td>\n",
       "      <td>4</td>\n",
       "      <td>7618</td>\n",
       "      <td>N/A</td>\n",
       "    </tr>\n",
       "    <tr>\n",
       "      <th>4</th>\n",
       "      <td>5</td>\n",
       "      <td>38065</td>\n",
       "      <td>ND</td>\n",
       "      <td>Oliver County</td>\n",
       "      <td>8</td>\n",
       "      <td>191</td>\n",
       "      <td>N/A</td>\n",
       "    </tr>\n",
       "  </tbody>\n",
       "</table>\n",
       "</div>"
      ],
      "text/plain": [
       "  d3mIndex   FIPS State              Area RUCCode POVALL_2016 FIPS_wikidata\n",
       "0        1  13297    GA     Walton County       1       11385           N/A\n",
       "1        2  13137    GA  Habersham County       6        6500           N/A\n",
       "2        3  54017    WV  Doddridge County       9        1460           N/A\n",
       "3        4  55055    WI  Jefferson County       4        7618           N/A\n",
       "4        5  38065    ND     Oliver County       8         191           N/A"
      ]
     },
     "execution_count": 12,
     "metadata": {},
     "output_type": "execute_result"
    }
   ],
   "source": [
    "res2.head()"
   ]
  },
  {
   "cell_type": "code",
   "execution_count": null,
   "metadata": {},
   "outputs": [],
   "source": []
  }
 ],
 "metadata": {
  "kernelspec": {
   "display_name": "Python 3",
   "language": "python",
   "name": "python3"
  },
  "language_info": {
   "codemirror_mode": {
    "name": "ipython",
    "version": 3
   },
   "file_extension": ".py",
   "mimetype": "text/x-python",
   "name": "python",
   "nbconvert_exporter": "python",
   "pygments_lexer": "ipython3",
   "version": "3.6.8"
  }
 },
 "nbformat": 4,
 "nbformat_minor": 2
}

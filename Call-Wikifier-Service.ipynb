{
 "cells": [
  {
   "cell_type": "markdown",
   "id": "colored-recording",
   "metadata": {},
   "source": [
    "# Wikifier Docker Runbook"
   ]
  },
  {
   "cell_type": "markdown",
   "id": "congressional-namibia",
   "metadata": {},
   "source": [
    "## Steps to build, setup and run the Wikifier Docker"
   ]
  },
  {
   "cell_type": "markdown",
   "id": "passing-journal",
   "metadata": {},
   "source": [
    "1. Download the git repository\n",
    "\n",
    "```\n",
    "git clone https://github.com/usc-isi-i2/wikidata-wikifier\n",
    "```\n",
    "\n",
    "\n",
    "2. change directory to `wikidata-wikifier`\n",
    "\n",
    "```\n",
    "cd wikidata-wikifier\n",
    "```\n",
    "\n",
    "\n",
    "3. Build the docker image\n",
    "\n",
    "```\n",
    "docker build -t wikidata-wikifier .\n",
    "```\n",
    "\n",
    "\n",
    "4. Setup environment variables in `docker-compose.yml`\n",
    "      - WIKIFIER_ES_URL # Elasticsearch URL, http://localhost:9200\n",
    "      - WIKIFIER_ES_INDEX # Elasticsearch Index, wikidatadwd-augmented-01\n",
    "5. Bring the wikifier container up\n",
    "\n",
    "```\n",
    "docker-compose up -d\n",
    "```\n",
    "\n",
    "6. Wikifier should be running at `http://localhost:1703`\n"
   ]
  },
  {
   "cell_type": "markdown",
   "id": "upset-charlotte",
   "metadata": {},
   "source": [
    "# Call Wikidata Wikifier Service"
   ]
  },
  {
   "cell_type": "code",
   "execution_count": 3,
   "id": "express-fields",
   "metadata": {},
   "outputs": [],
   "source": [
    "import os\n",
    "import requests\n",
    "import pandas as pd\n",
    "from io import StringIO"
   ]
  },
  {
   "cell_type": "markdown",
   "id": "wired-graphic",
   "metadata": {},
   "source": [
    "## Setup parameters"
   ]
  },
  {
   "cell_type": "code",
   "execution_count": 1,
   "id": "remarkable-transaction",
   "metadata": {},
   "outputs": [],
   "source": [
    "wikifier_service_url = \"http://localhost:1703/wikify\"\n",
    "input_file = '/Users/amandeep/Github/wikidata-wikifier/wikifier/sample_files/cricketers.csv'\n",
    "column_to_wikify = \"cricketers\""
   ]
  },
  {
   "cell_type": "markdown",
   "id": "cooperative-calgary",
   "metadata": {},
   "source": [
    "## Peek at the input file"
   ]
  },
  {
   "cell_type": "code",
   "execution_count": 6,
   "id": "egyptian-cricket",
   "metadata": {},
   "outputs": [
    {
     "data": {
      "text/html": [
       "<div>\n",
       "<style scoped>\n",
       "    .dataframe tbody tr th:only-of-type {\n",
       "        vertical-align: middle;\n",
       "    }\n",
       "\n",
       "    .dataframe tbody tr th {\n",
       "        vertical-align: top;\n",
       "    }\n",
       "\n",
       "    .dataframe thead th {\n",
       "        text-align: right;\n",
       "    }\n",
       "</style>\n",
       "<table border=\"1\" class=\"dataframe\">\n",
       "  <thead>\n",
       "    <tr style=\"text-align: right;\">\n",
       "      <th></th>\n",
       "      <th>cricketers</th>\n",
       "      <th>teams</th>\n",
       "      <th>weight</th>\n",
       "      <th>dob</th>\n",
       "    </tr>\n",
       "  </thead>\n",
       "  <tbody>\n",
       "    <tr>\n",
       "      <th>0</th>\n",
       "      <td>Virat Kohli</td>\n",
       "      <td>royal challengers bangalore</td>\n",
       "      <td>152</td>\n",
       "      <td>5/11/88</td>\n",
       "    </tr>\n",
       "    <tr>\n",
       "      <th>1</th>\n",
       "      <td>Tendulkar</td>\n",
       "      <td>mumbai indians</td>\n",
       "      <td>137</td>\n",
       "      <td>24/04/1973</td>\n",
       "    </tr>\n",
       "    <tr>\n",
       "      <th>2</th>\n",
       "      <td>Dhoni</td>\n",
       "      <td>chennai super kings</td>\n",
       "      <td>154</td>\n",
       "      <td>7/7/81</td>\n",
       "    </tr>\n",
       "    <tr>\n",
       "      <th>3</th>\n",
       "      <td>Jasprit Bumrah</td>\n",
       "      <td>mumbai indians</td>\n",
       "      <td>154</td>\n",
       "      <td>6/12/93</td>\n",
       "    </tr>\n",
       "    <tr>\n",
       "      <th>4</th>\n",
       "      <td>Ajinkya Rahane</td>\n",
       "      <td>rajasthan royals</td>\n",
       "      <td>134</td>\n",
       "      <td>6/6/88</td>\n",
       "    </tr>\n",
       "    <tr>\n",
       "      <th>5</th>\n",
       "      <td>Rohit Sharma</td>\n",
       "      <td>mumbai indians</td>\n",
       "      <td>159</td>\n",
       "      <td>30/04/1987</td>\n",
       "    </tr>\n",
       "    <tr>\n",
       "      <th>6</th>\n",
       "      <td>Bhuvneshwar Kumar</td>\n",
       "      <td>deccan chargers</td>\n",
       "      <td>154</td>\n",
       "      <td>5/2/90</td>\n",
       "    </tr>\n",
       "    <tr>\n",
       "      <th>7</th>\n",
       "      <td>Ravindra Jadeja</td>\n",
       "      <td>chennai super kings</td>\n",
       "      <td>132</td>\n",
       "      <td>6/12/88</td>\n",
       "    </tr>\n",
       "    <tr>\n",
       "      <th>8</th>\n",
       "      <td>Rishabh Pant</td>\n",
       "      <td>delhi capitals</td>\n",
       "      <td>136</td>\n",
       "      <td>4/8/97</td>\n",
       "    </tr>\n",
       "    <tr>\n",
       "      <th>9</th>\n",
       "      <td>Shikhar Dhawan</td>\n",
       "      <td>delhi capitals</td>\n",
       "      <td>157</td>\n",
       "      <td>5/12/85</td>\n",
       "    </tr>\n",
       "    <tr>\n",
       "      <th>10</th>\n",
       "      <td>Cheteshwar Pujara</td>\n",
       "      <td>deccan chargers</td>\n",
       "      <td>157</td>\n",
       "      <td>25/01/1988</td>\n",
       "    </tr>\n",
       "    <tr>\n",
       "      <th>11</th>\n",
       "      <td>Ishant Sharma</td>\n",
       "      <td>delhi capitals</td>\n",
       "      <td>168</td>\n",
       "      <td>2/9/88</td>\n",
       "    </tr>\n",
       "    <tr>\n",
       "      <th>12</th>\n",
       "      <td>Mohammad Shami</td>\n",
       "      <td>kings XI punjab</td>\n",
       "      <td>152</td>\n",
       "      <td>3/9/90</td>\n",
       "    </tr>\n",
       "  </tbody>\n",
       "</table>\n",
       "</div>"
      ],
      "text/plain": [
       "           cricketers                        teams  weight         dob\n",
       "0         Virat Kohli  royal challengers bangalore     152     5/11/88\n",
       "1           Tendulkar               mumbai indians     137  24/04/1973\n",
       "2               Dhoni          chennai super kings     154      7/7/81\n",
       "3      Jasprit Bumrah               mumbai indians     154     6/12/93\n",
       "4      Ajinkya Rahane             rajasthan royals     134      6/6/88\n",
       "5        Rohit Sharma               mumbai indians     159  30/04/1987\n",
       "6   Bhuvneshwar Kumar              deccan chargers     154      5/2/90\n",
       "7     Ravindra Jadeja          chennai super kings     132     6/12/88\n",
       "8        Rishabh Pant               delhi capitals     136      4/8/97\n",
       "9      Shikhar Dhawan               delhi capitals     157     5/12/85\n",
       "10  Cheteshwar Pujara              deccan chargers     157  25/01/1988\n",
       "11      Ishant Sharma               delhi capitals     168      2/9/88\n",
       "12     Mohammad Shami              kings XI punjab     152      3/9/90"
      ]
     },
     "execution_count": 6,
     "metadata": {},
     "output_type": "execute_result"
    }
   ],
   "source": [
    "pd.read_csv(input_file).fillna(\"\")"
   ]
  },
  {
   "cell_type": "markdown",
   "id": "indie-coupon",
   "metadata": {},
   "source": [
    "## Call via Python"
   ]
  },
  {
   "cell_type": "code",
   "execution_count": 7,
   "id": "latter-stress",
   "metadata": {},
   "outputs": [],
   "source": [
    "def call_wikifier(url, k=1):\n",
    "    file_name = os.path.basename(input_file)\n",
    "    url += f'?k={k}&columns={column_to_wikify}'\n",
    "\n",
    "    files = {\n",
    "        'file': (file_name, open(input_file, mode='rb'), 'application/octet-stream')\n",
    "    }\n",
    "    resp = requests.post(url, files=files)\n",
    "\n",
    "    s = str(resp.content, 'utf-8')\n",
    "\n",
    "    data = StringIO(s)\n",
    "\n",
    "    return pd.read_csv(data, header=None)"
   ]
  },
  {
   "cell_type": "code",
   "execution_count": null,
   "id": "shared-oxide",
   "metadata": {},
   "outputs": [],
   "source": [
    "df = call_wikifier(wikifier_service_url, k=3)"
   ]
  },
  {
   "cell_type": "code",
   "execution_count": null,
   "id": "crucial-superintendent",
   "metadata": {},
   "outputs": [],
   "source": [
    "df"
   ]
  },
  {
   "cell_type": "code",
   "execution_count": 13,
   "id": "molecular-ballet",
   "metadata": {},
   "outputs": [],
   "source": [
    "df.fillna(\"\").to_csv('/tmp/linked_cricketers.csv', index=False)"
   ]
  },
  {
   "cell_type": "markdown",
   "id": "sharing-brazilian",
   "metadata": {},
   "source": [
    "## Call using `curl`"
   ]
  },
  {
   "cell_type": "code",
   "execution_count": 32,
   "id": "private-grill",
   "metadata": {},
   "outputs": [],
   "source": [
    "url  =  f'{wikifier_service_url}?k=3&columns={column_to_wikify}'"
   ]
  },
  {
   "cell_type": "code",
   "execution_count": 35,
   "id": "discrete-bowling",
   "metadata": {},
   "outputs": [
    {
     "name": "stdout",
     "output_type": "stream",
     "text": [
      " curl -XPOST -F file=@/Users/amandeep/Github/wikidata-wikifier/wikifier/sample_files/cricketers.csv  https://dsbox02.isi.edu:8888/wikifier/wikify?k=3&columns=cricketers \n"
     ]
    }
   ],
   "source": [
    "curl -XPOST -F \"file=@$input_file\"  $url"
   ]
  },
  {
   "cell_type": "code",
   "execution_count": null,
   "id": "outstanding-colon",
   "metadata": {},
   "outputs": [],
   "source": []
  }
 ],
 "metadata": {
  "kernelspec": {
   "display_name": "tl_env",
   "language": "python",
   "name": "tl_env"
  },
  "language_info": {
   "codemirror_mode": {
    "name": "ipython",
    "version": 3
   },
   "file_extension": ".py",
   "mimetype": "text/x-python",
   "name": "python",
   "nbconvert_exporter": "python",
   "pygments_lexer": "ipython3",
   "version": "3.9.2"
  }
 },
 "nbformat": 4,
 "nbformat_minor": 5
}
